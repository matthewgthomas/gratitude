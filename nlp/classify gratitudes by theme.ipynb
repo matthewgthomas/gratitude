{
  "nbformat": 4,
  "nbformat_minor": 0,
  "metadata": {
    "colab": {
      "provenance": [],
      "gpuType": "T4"
    },
    "kernelspec": {
      "name": "python3",
      "display_name": "Python 3"
    },
    "language_info": {
      "name": "python"
    },
    "accelerator": "GPU"
  },
  "cells": [
    {
      "cell_type": "code",
      "source": [
        "import pandas as pd\n",
        "from transformers import pipeline\n",
        "import json"
      ],
      "metadata": {
        "id": "aE4Ul3XC4BpX"
      },
      "execution_count": null,
      "outputs": []
    },
    {
      "cell_type": "markdown",
      "source": [
        "Load the .csv file created and uploaded by https://github.com/matthewgthomas/gratitude/blob/main/nlp/convert%20gratitudes%20to%20table.R"
      ],
      "metadata": {
        "id": "kRVv9QS4405Q"
      }
    },
    {
      "cell_type": "code",
      "source": [
        "grats = pd.read_csv(\"drive/MyDrive/Gratitude/gratitudes.csv\")"
      ],
      "metadata": {
        "id": "FniTOwfG4SLm"
      },
      "execution_count": null,
      "outputs": []
    },
    {
      "cell_type": "code",
      "source": [
        "grats.head()"
      ],
      "metadata": {
        "id": "FzHu6YP44f6Q"
      },
      "execution_count": null,
      "outputs": []
    },
    {
      "cell_type": "markdown",
      "source": [
        "Load the [deberta zero-shot classifier](https://huggingface.co/MoritzLaurer/deberta-v3-large-zeroshot-v2.0)"
      ],
      "metadata": {
        "id": "MEuiKkgj5Ape"
      }
    },
    {
      "cell_type": "code",
      "source": [
        "# hypothesis_template = \"This text is about {}\"\n",
        "hypothesis_template = \"The topic of this text is {}\"\n",
        "\n",
        "zeroshot_classifier = pipeline(\"zero-shot-classification\", model=\"MoritzLaurer/deberta-v3-large-zeroshot-v2.0\", device=0)"
      ],
      "metadata": {
        "id": "-azs2CzlcM4H"
      },
      "execution_count": null,
      "outputs": []
    },
    {
      "cell_type": "code",
      "source": [
        "gratitude_themes = [\n",
        "    \"socialising\",\n",
        "    \"food and cooking\",\n",
        "    \"solitude and self-care\",\n",
        "    \"nature and travel\"\n",
        "    ]"
      ],
      "metadata": {
        "id": "zqbohL0rFToY"
      },
      "execution_count": null,
      "outputs": []
    },
    {
      "cell_type": "markdown",
      "source": [
        "Classify each gratitude journal entry into one of the themes"
      ],
      "metadata": {
        "id": "9UFUimtJ5rv4"
      }
    },
    {
      "cell_type": "code",
      "source": [
        "grats_labels = []\n",
        "\n",
        "for index, row in grats.iterrows():\n",
        "  text = row['gratitude']\n",
        "  output = zeroshot_classifier(text, gratitude_themes, hypothesis_template=hypothesis_template, multi_label=True)\n",
        "  grats_labels.append(output)\n",
        "  print(f\"Finished {index}\")"
      ],
      "metadata": {
        "id": "BlBh-DSrcesk"
      },
      "execution_count": null,
      "outputs": []
    },
    {
      "cell_type": "markdown",
      "source": [
        "Join the filtered themes to the gratitude journal entries and save"
      ],
      "metadata": {
        "id": "M-aTOzMK5iHM"
      }
    },
    {
      "cell_type": "code",
      "source": [
        "grats_labels_df = pd.DataFrame(grats_labels)\n",
        "grats_labels_df.head()"
      ],
      "metadata": {
        "id": "vWA7ibOPZqal"
      },
      "execution_count": null,
      "outputs": []
    },
    {
      "cell_type": "code",
      "source": [
        "grats_merged = pd.merge(grats, grats_labels_df, left_on='gratitude', right_on='sequence', how='left')\n",
        "grats_merged.head()"
      ],
      "metadata": {
        "id": "iO_2xhO5bYJx"
      },
      "execution_count": null,
      "outputs": []
    },
    {
      "cell_type": "code",
      "source": [
        "grats_merged.to_csv(\"drive/MyDrive/Gratitude/gratitudes_labeled.csv\", index=False)"
      ],
      "metadata": {
        "id": "SJ4i6ERRa8-D"
      },
      "execution_count": null,
      "outputs": []
    },
    {
      "cell_type": "markdown",
      "source": [
        "The grats_labels dict contains a list of labels and a list of scores. Keep only the labels whose corresponding scores are > 0.5"
      ],
      "metadata": {
        "id": "Dyficj7U5W6G"
      }
    },
    {
      "cell_type": "code",
      "source": [
        "filtered_grats_labels = []\n",
        "for item in grats_labels:\n",
        "  filtered_labels = [label for label, score in zip(item['labels'], item['scores']) if score > 0.5]\n",
        "  filtered_grats_labels.append({'sequence': item['sequence'], 'labels': filtered_labels})\n"
      ],
      "metadata": {
        "id": "9U8Eun6dNaxt"
      },
      "execution_count": null,
      "outputs": []
    },
    {
      "cell_type": "code",
      "source": [
        "filtered_grats_labels"
      ],
      "metadata": {
        "id": "t89BLZqROJK5"
      },
      "execution_count": null,
      "outputs": []
    },
    {
      "cell_type": "markdown",
      "source": [
        "Join the filtered themes to the gratitude journal entries and save"
      ],
      "metadata": {
        "id": "XQQo9Sbb5Z9F"
      }
    },
    {
      "cell_type": "code",
      "source": [
        "filtered_grats_labels_df = pd.DataFrame(filtered_grats_labels)\n",
        "grats_merged = pd.merge(grats, filtered_grats_labels_df, left_on='gratitude', right_on='sequence', how='left')\n",
        "grats_merged.head()"
      ],
      "metadata": {
        "id": "4zy9rSFxOLKa"
      },
      "execution_count": null,
      "outputs": []
    },
    {
      "cell_type": "code",
      "source": [
        "grats_merged.to_csv(\"drive/MyDrive/Gratitude/gratitudes_labeled_filtered.csv\", index=False)"
      ],
      "metadata": {
        "id": "AtIpjIPDO20Y"
      },
      "execution_count": null,
      "outputs": []
    }
  ]
}